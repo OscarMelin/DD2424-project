{
 "cells": [
  {
   "cell_type": "code",
   "execution_count": 1,
   "metadata": {},
   "outputs": [
    {
     "name": "stderr",
     "output_type": "stream",
     "text": [
      "Using TensorFlow backend.\n"
     ]
    }
   ],
   "source": [
    "import pandas as pd\n",
    "import numpy as np\n",
    "import os\n",
    "import keras\n",
    "import matplotlib.pyplot as plt\n",
    "from keras.layers import Dense,GlobalAveragePooling2D\n",
    "#from keras.applications import MobileNet\n",
    "from keras.applications.resnet50 import ResNet50\n",
    "from keras.preprocessing import image\n",
    "#from keras.applications.mobilenet import preprocess_input\n",
    "from keras.applications.resnet50 import preprocess_input\n",
    "from keras.preprocessing.image import ImageDataGenerator\n",
    "from keras.models import Model\n",
    "from keras.optimizers import Adam"
   ]
  },
  {
   "cell_type": "code",
   "execution_count": 2,
   "metadata": {},
   "outputs": [
    {
     "name": "stdout",
     "output_type": "stream",
     "text": [
      "WARNING:tensorflow:From /home/spxylla/anaconda3/envs/dd2424/lib/python3.7/site-packages/tensorflow/python/framework/op_def_library.py:263: colocate_with (from tensorflow.python.framework.ops) is deprecated and will be removed in a future version.\n",
      "Instructions for updating:\n",
      "Colocations handled automatically by placer.\n"
     ]
    },
    {
     "name": "stderr",
     "output_type": "stream",
     "text": [
      "/home/spxylla/anaconda3/envs/dd2424/lib/python3.7/site-packages/keras_applications/resnet50.py:265: UserWarning: The output shape of `ResNet50(include_top=False)` has been changed since Keras 2.2.0.\n",
      "  warnings.warn('The output shape of `ResNet50(include_top=False)` '\n"
     ]
    }
   ],
   "source": [
    "model_name='ResNet50'\n",
    "number_of_epochs = 100\n",
    "frozen = False\n",
    "\n",
    "base_model=ResNet50(weights='imagenet',include_top=False) #imports the mobilenet model and discards the last 1000 neuron layer.\n",
    "\n",
    "if frozen:\n",
    "    for layer in base_model.layers:\n",
    "        layer.trainable = False\n",
    "\n",
    "    \n",
    "x = base_model.output\n",
    "\n",
    "#These layers act as output layer for mobilenet but are customed to fit for 6 classes instead of imagenets original 1000.\n",
    "x=GlobalAveragePooling2D()(x)\n",
    "x=Dense(1024,activation='relu')(x) #we add dense layers so that the model can learn more complex functions and classify for better results.\n",
    "x=Dense(1024,activation='relu')(x) #dense layer 2\n",
    "x=Dense(512,activation='relu')(x) #dense layer 3\n",
    "preds=Dense(6,activation='softmax')(x) #final layer with softmax activation\n",
    "\n",
    "\n",
    "#%%\n",
    "\n",
    "model=Model(inputs=base_model.input,outputs=preds)\n"
   ]
  },
  {
   "cell_type": "code",
   "execution_count": 3,
   "metadata": {},
   "outputs": [
    {
     "name": "stdout",
     "output_type": "stream",
     "text": [
      "Found 1825 images belonging to 6 classes.\n",
      "Found 271 images belonging to 6 classes.\n",
      "Found 431 images belonging to 6 classes.\n"
     ]
    }
   ],
   "source": [
    "datagen = dict(\n",
    "        rotation_range=40,\n",
    "        width_shift_range=0.2,\n",
    "        height_shift_range=0.2,\n",
    "        shear_range=0.2,\n",
    "        zoom_range=0.2,\n",
    "        horizontal_flip=True,\n",
    "        validation_split=0.13,\n",
    "        fill_mode='nearest')\n",
    "\n",
    "train_datagen = ImageDataGenerator(preprocessing_function=preprocess_input, **datagen)\n",
    "\n",
    "test_datagen = ImageDataGenerator(preprocessing_function=preprocess_input)\n",
    "\n",
    "\n",
    "train_generator = train_datagen.flow_from_directory('./dataset/train',\n",
    "                                                 target_size=(224,224),\n",
    "                                                 color_mode='rgb',\n",
    "                                                 batch_size=32,\n",
    "                                                 class_mode='categorical',\n",
    "                                                 shuffle=True,\n",
    "                                                 subset='training')\n",
    "\n",
    "validation_generator = train_datagen.flow_from_directory('./dataset/train',\n",
    "                                                 target_size=(224,224),\n",
    "                                                 color_mode='rgb',\n",
    "                                                 batch_size=train_generator.batch_size,\n",
    "                                                 class_mode='categorical',\n",
    "                                                 shuffle=True,\n",
    "                                                 subset='validation')\n",
    "\n",
    "test_generator = test_datagen.flow_from_directory('./dataset/test',\n",
    "                                                 target_size=(224,224),\n",
    "                                                 color_mode='rgb',\n",
    "                                                 batch_size=1,\n",
    "                                                 class_mode='categorical',\n",
    "                                                 shuffle=False\n",
    "                                                 )"
   ]
  },
  {
   "cell_type": "code",
   "execution_count": 4,
   "metadata": {},
   "outputs": [
    {
     "name": "stdout",
     "output_type": "stream",
     "text": [
      "WARNING:tensorflow:From /home/spxylla/anaconda3/envs/dd2424/lib/python3.7/site-packages/tensorflow/python/ops/math_ops.py:3066: to_int32 (from tensorflow.python.ops.math_ops) is deprecated and will be removed in a future version.\n",
      "Instructions for updating:\n",
      "Use tf.cast instead.\n",
      "Epoch 1/100\n",
      "57/57 [==============================] - 33s 586ms/step - loss: 1.5283 - acc: 0.4594 - val_loss: 1.9168 - val_acc: 0.3281\n",
      "Epoch 2/100\n",
      "57/57 [==============================] - 24s 414ms/step - loss: 1.1374 - acc: 0.5934 - val_loss: 2.2292 - val_acc: 0.4268\n",
      "Epoch 3/100\n",
      "57/57 [==============================] - 24s 421ms/step - loss: 1.0662 - acc: 0.6315 - val_loss: 1.4022 - val_acc: 0.4603\n",
      "Epoch 4/100\n",
      "57/57 [==============================] - 24s 424ms/step - loss: 1.1895 - acc: 0.5802 - val_loss: 2.9909 - val_acc: 0.2678\n",
      "Epoch 5/100\n",
      "57/57 [==============================] - 24s 421ms/step - loss: 0.9487 - acc: 0.6400 - val_loss: 2.7297 - val_acc: 0.3305\n",
      "Epoch 6/100\n",
      "57/57 [==============================] - 24s 426ms/step - loss: 0.8953 - acc: 0.6630 - val_loss: 1.9992 - val_acc: 0.4310\n",
      "Epoch 7/100\n",
      "57/57 [==============================] - 24s 420ms/step - loss: 0.8683 - acc: 0.6850 - val_loss: 2.1451 - val_acc: 0.4351\n",
      "Epoch 8/100\n",
      "57/57 [==============================] - 24s 422ms/step - loss: 0.7870 - acc: 0.7209 - val_loss: 2.7879 - val_acc: 0.4603\n",
      "Epoch 9/100\n",
      "57/57 [==============================] - 24s 419ms/step - loss: 0.7207 - acc: 0.7404 - val_loss: 2.0341 - val_acc: 0.3808\n",
      "Epoch 10/100\n",
      "57/57 [==============================] - 24s 420ms/step - loss: 0.7072 - acc: 0.7409 - val_loss: 1.2758 - val_acc: 0.5820\n",
      "Epoch 11/100\n",
      "57/57 [==============================] - 24s 421ms/step - loss: 0.7515 - acc: 0.7349 - val_loss: 8.6602 - val_acc: 0.2301\n",
      "Epoch 12/100\n",
      "57/57 [==============================] - 24s 425ms/step - loss: 0.7471 - acc: 0.7365 - val_loss: 2.2995 - val_acc: 0.3766\n",
      "Epoch 13/100\n",
      "57/57 [==============================] - 24s 418ms/step - loss: 0.6799 - acc: 0.7647 - val_loss: 2.1788 - val_acc: 0.4561\n",
      "Epoch 14/100\n",
      "57/57 [==============================] - 24s 426ms/step - loss: 0.7359 - acc: 0.7579 - val_loss: 2.0177 - val_acc: 0.4644\n",
      "Epoch 15/100\n",
      "57/57 [==============================] - 24s 421ms/step - loss: 0.6336 - acc: 0.7667 - val_loss: 0.8154 - val_acc: 0.7406\n",
      "Epoch 16/100\n",
      "57/57 [==============================] - 24s 427ms/step - loss: 0.6051 - acc: 0.7859 - val_loss: 1.3730 - val_acc: 0.6151\n",
      "Epoch 17/100\n",
      "57/57 [==============================] - 24s 427ms/step - loss: 0.6114 - acc: 0.7738 - val_loss: 1.1847 - val_acc: 0.6109\n",
      "Epoch 18/100\n",
      "57/57 [==============================] - 24s 425ms/step - loss: 0.5434 - acc: 0.8179 - val_loss: 1.1366 - val_acc: 0.6653\n",
      "Epoch 19/100\n",
      "57/57 [==============================] - 24s 424ms/step - loss: 0.5772 - acc: 0.7853 - val_loss: 1.3854 - val_acc: 0.5625\n",
      "Epoch 20/100\n",
      "57/57 [==============================] - 24s 420ms/step - loss: 0.6713 - acc: 0.7574 - val_loss: 2.2998 - val_acc: 0.3766\n",
      "Epoch 21/100\n",
      "57/57 [==============================] - 24s 422ms/step - loss: 0.6413 - acc: 0.7689 - val_loss: 1.4198 - val_acc: 0.5356\n",
      "Epoch 22/100\n",
      "57/57 [==============================] - 24s 426ms/step - loss: 0.5715 - acc: 0.8034 - val_loss: 1.1916 - val_acc: 0.6485\n",
      "Epoch 23/100\n",
      "57/57 [==============================] - 24s 427ms/step - loss: 0.5069 - acc: 0.8133 - val_loss: 1.2552 - val_acc: 0.6820\n",
      "Epoch 24/100\n",
      "57/57 [==============================] - 24s 425ms/step - loss: 0.5287 - acc: 0.8073 - val_loss: 1.0820 - val_acc: 0.6360\n",
      "Epoch 25/100\n",
      "57/57 [==============================] - 24s 419ms/step - loss: 0.4784 - acc: 0.8267 - val_loss: 2.1970 - val_acc: 0.5021\n",
      "Epoch 26/100\n",
      "57/57 [==============================] - 24s 426ms/step - loss: 0.4708 - acc: 0.8308 - val_loss: 1.2146 - val_acc: 0.6862\n",
      "Epoch 27/100\n",
      "57/57 [==============================] - 24s 427ms/step - loss: 0.4284 - acc: 0.8470 - val_loss: 2.4375 - val_acc: 0.4770\n",
      "Epoch 28/100\n",
      "57/57 [==============================] - 24s 420ms/step - loss: 0.4750 - acc: 0.8424 - val_loss: 1.1705 - val_acc: 0.6797\n",
      "Epoch 29/100\n",
      "57/57 [==============================] - 24s 423ms/step - loss: 0.4307 - acc: 0.8574 - val_loss: 1.3429 - val_acc: 0.5774\n",
      "Epoch 30/100\n",
      "57/57 [==============================] - 24s 423ms/step - loss: 0.4033 - acc: 0.8558 - val_loss: 0.9091 - val_acc: 0.7280\n",
      "Epoch 31/100\n",
      "57/57 [==============================] - 24s 423ms/step - loss: 0.4366 - acc: 0.8385 - val_loss: 0.9142 - val_acc: 0.7280\n",
      "Epoch 32/100\n",
      "57/57 [==============================] - 24s 426ms/step - loss: 0.3632 - acc: 0.8667 - val_loss: 0.9438 - val_acc: 0.7448\n",
      "Epoch 33/100\n",
      "57/57 [==============================] - 24s 418ms/step - loss: 0.4263 - acc: 0.8528 - val_loss: 1.3595 - val_acc: 0.6025\n",
      "Epoch 34/100\n",
      "57/57 [==============================] - 24s 416ms/step - loss: 0.3866 - acc: 0.8552 - val_loss: 1.3751 - val_acc: 0.6653\n",
      "Epoch 35/100\n",
      "57/57 [==============================] - 24s 416ms/step - loss: 0.4058 - acc: 0.8561 - val_loss: 5.5008 - val_acc: 0.3138\n",
      "Epoch 36/100\n",
      "57/57 [==============================] - 24s 426ms/step - loss: 0.4820 - acc: 0.8355 - val_loss: 1.1048 - val_acc: 0.6485\n",
      "Epoch 37/100\n",
      "57/57 [==============================] - 24s 426ms/step - loss: 0.3823 - acc: 0.8610 - val_loss: 0.9934 - val_acc: 0.7383\n",
      "Epoch 38/100\n",
      "57/57 [==============================] - 24s 417ms/step - loss: 0.3880 - acc: 0.8588 - val_loss: 0.9323 - val_acc: 0.6653\n",
      "Epoch 39/100\n",
      "57/57 [==============================] - 24s 425ms/step - loss: 0.3474 - acc: 0.8799 - val_loss: 2.3857 - val_acc: 0.4519\n",
      "Epoch 40/100\n",
      "57/57 [==============================] - 24s 422ms/step - loss: 0.3622 - acc: 0.8670 - val_loss: 1.7868 - val_acc: 0.5272\n",
      "Epoch 41/100\n",
      "57/57 [==============================] - 24s 420ms/step - loss: 0.3565 - acc: 0.8632 - val_loss: 1.3121 - val_acc: 0.6444\n",
      "Epoch 42/100\n",
      "57/57 [==============================] - 24s 420ms/step - loss: 0.3285 - acc: 0.8892 - val_loss: 1.1660 - val_acc: 0.7322\n",
      "Epoch 43/100\n",
      "57/57 [==============================] - 24s 429ms/step - loss: 0.3573 - acc: 0.8588 - val_loss: 0.8206 - val_acc: 0.7238\n",
      "Epoch 44/100\n",
      "57/57 [==============================] - 24s 423ms/step - loss: 0.3410 - acc: 0.8676 - val_loss: 1.5084 - val_acc: 0.6527\n",
      "Epoch 45/100\n",
      "57/57 [==============================] - 24s 428ms/step - loss: 0.4051 - acc: 0.8484 - val_loss: 1.1735 - val_acc: 0.6402\n",
      "Epoch 46/100\n",
      "57/57 [==============================] - 24s 418ms/step - loss: 0.3133 - acc: 0.8914 - val_loss: 1.0054 - val_acc: 0.6836\n",
      "Epoch 47/100\n",
      "57/57 [==============================] - 24s 423ms/step - loss: 0.3873 - acc: 0.8621 - val_loss: 2.4201 - val_acc: 0.4310\n",
      "Epoch 48/100\n",
      "57/57 [==============================] - 24s 421ms/step - loss: 0.4010 - acc: 0.8495 - val_loss: 1.4118 - val_acc: 0.6318\n",
      "Epoch 49/100\n",
      "57/57 [==============================] - 24s 427ms/step - loss: 0.3171 - acc: 0.8747 - val_loss: 0.8325 - val_acc: 0.7531\n",
      "Epoch 50/100\n",
      "57/57 [==============================] - 24s 417ms/step - loss: 0.2991 - acc: 0.8923 - val_loss: 3.3445 - val_acc: 0.3975\n",
      "Epoch 51/100\n",
      "57/57 [==============================] - 24s 419ms/step - loss: 0.3453 - acc: 0.8670 - val_loss: 3.3179 - val_acc: 0.3556\n",
      "Epoch 52/100\n",
      "57/57 [==============================] - 24s 428ms/step - loss: 0.3263 - acc: 0.8843 - val_loss: 1.4672 - val_acc: 0.5941\n",
      "Epoch 53/100\n",
      "57/57 [==============================] - 24s 424ms/step - loss: 0.3164 - acc: 0.8895 - val_loss: 1.3934 - val_acc: 0.6862\n",
      "Epoch 54/100\n",
      "57/57 [==============================] - 24s 425ms/step - loss: 0.2269 - acc: 0.9227 - val_loss: 1.1315 - val_acc: 0.7615\n",
      "Epoch 55/100\n",
      "57/57 [==============================] - 24s 420ms/step - loss: 0.2690 - acc: 0.9060 - val_loss: 1.2367 - val_acc: 0.6875\n",
      "Epoch 56/100\n",
      "57/57 [==============================] - 24s 419ms/step - loss: 0.2366 - acc: 0.9142 - val_loss: 0.8569 - val_acc: 0.7657\n",
      "Epoch 57/100\n",
      "57/57 [==============================] - 24s 420ms/step - loss: 0.2708 - acc: 0.9101 - val_loss: 0.9638 - val_acc: 0.7448\n",
      "Epoch 58/100\n",
      "57/57 [==============================] - 24s 425ms/step - loss: 0.2228 - acc: 0.9249 - val_loss: 1.1708 - val_acc: 0.7238\n",
      "Epoch 59/100\n",
      "57/57 [==============================] - 24s 427ms/step - loss: 0.2155 - acc: 0.9249 - val_loss: 0.9028 - val_acc: 0.7197\n"
     ]
    },
    {
     "name": "stdout",
     "output_type": "stream",
     "text": [
      "Epoch 60/100\n",
      "57/57 [==============================] - 24s 420ms/step - loss: 0.4482 - acc: 0.8632 - val_loss: 2.0401 - val_acc: 0.5816\n",
      "Epoch 61/100\n",
      "57/57 [==============================] - 24s 425ms/step - loss: 0.2508 - acc: 0.9126 - val_loss: 0.9681 - val_acc: 0.7364\n",
      "Epoch 62/100\n",
      "57/57 [==============================] - 24s 420ms/step - loss: 0.2332 - acc: 0.9265 - val_loss: 0.8617 - val_acc: 0.7866\n",
      "Epoch 63/100\n",
      "57/57 [==============================] - 24s 423ms/step - loss: 0.3103 - acc: 0.9049 - val_loss: 0.8945 - val_acc: 0.7782\n",
      "Epoch 64/100\n",
      "57/57 [==============================] - 24s 425ms/step - loss: 0.2800 - acc: 0.8977 - val_loss: 0.8101 - val_acc: 0.7461\n",
      "Epoch 65/100\n",
      "57/57 [==============================] - 24s 427ms/step - loss: 0.2175 - acc: 0.9169 - val_loss: 1.2436 - val_acc: 0.6904\n",
      "Epoch 66/100\n",
      "57/57 [==============================] - 24s 424ms/step - loss: 0.2610 - acc: 0.9153 - val_loss: 0.7371 - val_acc: 0.7866\n",
      "Epoch 67/100\n",
      "57/57 [==============================] - 24s 426ms/step - loss: 0.2085 - acc: 0.9147 - val_loss: 0.9067 - val_acc: 0.7448\n",
      "Epoch 68/100\n",
      "57/57 [==============================] - 24s 425ms/step - loss: 0.2198 - acc: 0.9353 - val_loss: 1.0624 - val_acc: 0.6862\n",
      "Epoch 69/100\n",
      "57/57 [==============================] - 24s 421ms/step - loss: 0.1973 - acc: 0.9202 - val_loss: 0.8952 - val_acc: 0.7657\n",
      "Epoch 70/100\n",
      "57/57 [==============================] - 24s 427ms/step - loss: 0.1575 - acc: 0.9484 - val_loss: 0.7590 - val_acc: 0.7908\n",
      "Epoch 71/100\n",
      "57/57 [==============================] - 24s 424ms/step - loss: 0.2668 - acc: 0.9126 - val_loss: 1.4649 - val_acc: 0.6695\n",
      "Epoch 72/100\n",
      "57/57 [==============================] - 24s 418ms/step - loss: 0.2422 - acc: 0.9126 - val_loss: 1.1404 - val_acc: 0.7448\n",
      "Epoch 73/100\n",
      "57/57 [==============================] - 24s 425ms/step - loss: 0.1874 - acc: 0.9424 - val_loss: 1.4806 - val_acc: 0.6445\n",
      "Epoch 74/100\n",
      "57/57 [==============================] - 24s 421ms/step - loss: 0.2044 - acc: 0.9304 - val_loss: 0.9648 - val_acc: 0.7490\n",
      "Epoch 75/100\n",
      "57/57 [==============================] - 24s 425ms/step - loss: 0.1539 - acc: 0.9474 - val_loss: 1.0420 - val_acc: 0.7866\n",
      "Epoch 76/100\n",
      "57/57 [==============================] - 25s 433ms/step - loss: 0.1332 - acc: 0.9561 - val_loss: 0.6512 - val_acc: 0.7950\n",
      "Epoch 77/100\n",
      "57/57 [==============================] - 24s 422ms/step - loss: 0.2277 - acc: 0.9202 - val_loss: 0.9058 - val_acc: 0.7029\n",
      "Epoch 78/100\n",
      "57/57 [==============================] - 24s 423ms/step - loss: 0.2834 - acc: 0.9010 - val_loss: 1.8669 - val_acc: 0.6485\n",
      "Epoch 79/100\n",
      "57/57 [==============================] - 24s 421ms/step - loss: 0.2333 - acc: 0.9268 - val_loss: 1.0723 - val_acc: 0.7322\n",
      "Epoch 80/100\n",
      "57/57 [==============================] - 24s 420ms/step - loss: 0.2420 - acc: 0.9282 - val_loss: 1.1624 - val_acc: 0.7155\n",
      "Epoch 81/100\n",
      "57/57 [==============================] - 24s 425ms/step - loss: 0.2252 - acc: 0.9235 - val_loss: 1.1195 - val_acc: 0.7406\n",
      "Epoch 82/100\n",
      "57/57 [==============================] - 24s 424ms/step - loss: 0.2479 - acc: 0.9205 - val_loss: 0.9096 - val_acc: 0.7305\n",
      "Epoch 83/100\n",
      "57/57 [==============================] - 24s 429ms/step - loss: 0.2203 - acc: 0.9175 - val_loss: 0.8705 - val_acc: 0.7238\n",
      "Epoch 84/100\n",
      "57/57 [==============================] - 24s 428ms/step - loss: 0.1657 - acc: 0.9394 - val_loss: 0.8585 - val_acc: 0.7448\n",
      "Epoch 85/100\n",
      "57/57 [==============================] - 24s 420ms/step - loss: 0.1721 - acc: 0.9441 - val_loss: 1.1804 - val_acc: 0.7657\n",
      "Epoch 86/100\n",
      "57/57 [==============================] - 24s 423ms/step - loss: 0.2688 - acc: 0.9126 - val_loss: 1.9710 - val_acc: 0.5690\n",
      "Epoch 87/100\n",
      "57/57 [==============================] - 24s 422ms/step - loss: 0.1731 - acc: 0.9389 - val_loss: 1.1730 - val_acc: 0.7364\n",
      "Epoch 88/100\n",
      "57/57 [==============================] - 24s 424ms/step - loss: 0.2089 - acc: 0.9397 - val_loss: 1.3343 - val_acc: 0.6946\n",
      "Epoch 89/100\n",
      "57/57 [==============================] - 24s 422ms/step - loss: 0.2387 - acc: 0.9246 - val_loss: 0.9417 - val_acc: 0.7573\n",
      "Epoch 90/100\n",
      "57/57 [==============================] - 24s 424ms/step - loss: 0.1794 - acc: 0.9350 - val_loss: 0.8040 - val_acc: 0.8033\n",
      "Epoch 91/100\n",
      "57/57 [==============================] - 24s 421ms/step - loss: 0.1746 - acc: 0.9433 - val_loss: 0.9638 - val_acc: 0.7305\n",
      "Epoch 92/100\n",
      "57/57 [==============================] - 24s 421ms/step - loss: 0.1587 - acc: 0.9361 - val_loss: 1.1246 - val_acc: 0.7322\n",
      "Epoch 93/100\n",
      "57/57 [==============================] - 24s 424ms/step - loss: 0.1748 - acc: 0.9506 - val_loss: 1.0034 - val_acc: 0.7531\n",
      "Epoch 94/100\n",
      "57/57 [==============================] - 24s 425ms/step - loss: 0.1003 - acc: 0.9682 - val_loss: 1.2135 - val_acc: 0.7071\n",
      "Epoch 95/100\n",
      "57/57 [==============================] - 24s 419ms/step - loss: 0.2285 - acc: 0.9268 - val_loss: 1.1804 - val_acc: 0.7071\n",
      "Epoch 96/100\n",
      "57/57 [==============================] - 24s 426ms/step - loss: 0.1577 - acc: 0.9528 - val_loss: 2.5179 - val_acc: 0.5314\n",
      "Epoch 97/100\n",
      "57/57 [==============================] - 24s 426ms/step - loss: 0.1585 - acc: 0.9484 - val_loss: 2.3813 - val_acc: 0.6318\n",
      "Epoch 98/100\n",
      "57/57 [==============================] - 24s 421ms/step - loss: 0.1832 - acc: 0.9307 - val_loss: 0.8935 - val_acc: 0.7782\n",
      "Epoch 99/100\n",
      "57/57 [==============================] - 24s 424ms/step - loss: 0.1922 - acc: 0.9394 - val_loss: 1.3233 - val_acc: 0.6653\n",
      "Epoch 100/100\n",
      "57/57 [==============================] - 24s 428ms/step - loss: 0.1955 - acc: 0.9307 - val_loss: 0.7812 - val_acc: 0.7812\n"
     ]
    }
   ],
   "source": [
    "\n",
    "\n",
    "\n",
    "#specify the inputs\n",
    "#specify the outputs\n",
    "#now a model has been created based on our architecture\n",
    "\n",
    "\n",
    "#%%\n",
    "\n",
    "model.compile(optimizer='Adam', loss='categorical_crossentropy', metrics=['accuracy'])\n",
    "# Adam optimizer\n",
    "# loss function will be categorical cross entropy\n",
    "# evaluation metric will be accuracy\n",
    "\n",
    "step_size_train = train_generator.n // train_generator.batch_size\n",
    "step_size_validation = validation_generator.n // train_generator.batch_size\n",
    "\n",
    "\n",
    "history = model.fit_generator(generator=train_generator,\n",
    "                   steps_per_epoch=step_size_train,\n",
    "                   validation_data = validation_generator, \n",
    "                   validation_steps = step_size_validation,\n",
    "                   epochs = number_of_epochs)\n",
    "\n",
    "test_loss, test_acc = model.evaluate_generator(generator=test_generator, steps=test_generator.n)\n",
    "\n",
    "#Get history of loss and accuracy during training and display it with graphs\n",
    "train_loss = history.history['loss']\n",
    "train_acc  = history.history['acc']\n",
    "val_loss = history.history['val_loss']\n",
    "val_acc = history.history['val_acc']"
   ]
  },
  {
   "cell_type": "code",
   "execution_count": 5,
   "metadata": {},
   "outputs": [
    {
     "name": "stdout",
     "output_type": "stream",
     "text": [
      "test_loss: 0.7238019532167622\n",
      "test_acc: 0.814385150812065\n",
      "A graph displaying the loss over training epochs\n"
     ]
    },
    {
     "data": {
      "image/png": "[encoded data removed]",
      "text/plain": [
       "<Figure size 432x288 with 1 Axes>"
      ]
     },
     "metadata": {
      "needs_background": "light"
     },
     "output_type": "display_data"
    },
    {
     "name": "stdout",
     "output_type": "stream",
     "text": [
      "A graph displaying the accuracy over training epochs\n"
     ]
    },
    {
     "data": {
      "image/png": "[encoded data removed]",
      "text/plain": [
       "<Figure size 432x288 with 1 Axes>"
      ]
     },
     "metadata": {
      "needs_background": "light"
     },
     "output_type": "display_data"
    }
   ],
   "source": [
    "\"\"\"\n",
    "print('train_loss:', train_loss)\n",
    "print('train_acc:', train_acc)\n",
    "print('val_loss:', val_loss)\n",
    "print('val_acc:', val_acc)\n",
    "\"\"\"\n",
    "print('test_loss:', test_loss)\n",
    "print('test_acc:', test_acc) \n",
    "\n",
    "f= open(\"test_results.txt\",\"a+\")\n",
    "f.write(\"____________________________ %s _____________________________ \\r\\n\" % model_name )\n",
    "f.write(\"Number of epochs:%d\\r\\n\" % number_of_epochs)\n",
    "f.write(\"Frozen: %s\\r\\n\" % str(frozen))\n",
    "f.write(\"Test Accuracy:%f\\r\\n\" % test_acc)\n",
    "f.write(\"Test Loss:%f\\r\\n\" % test_loss)\n",
    "f.close()\n",
    "\n",
    "print('A graph displaying the loss over training epochs')\n",
    "plt.plot(train_loss)\n",
    "plt.plot(val_loss)\n",
    "plt.title('Loss')\n",
    "plt.ylabel('Loss')\n",
    "plt.xlabel('Epoch number')\n",
    "plt.legend(['train', 'val'], loc='upper left')\n",
    "plt.show()\n",
    "plt.savefig('graphs/train_loss_' + model_name + '_' + str(number_of_epochs) + 'epochs_' + 'Frozen_' + str(frozen) + '.png')\n",
    "\n",
    "print('A graph displaying the accuracy over training epochs')\n",
    "plt.plot(train_acc)\n",
    "plt.plot(val_acc)\n",
    "plt.title('Accuracy')\n",
    "plt.ylabel('Accuracy')\n",
    "plt.xlabel('Epoch number')\n",
    "plt.legend(['train', 'val'], loc='upper left')\n",
    "plt.savefig('graphs/train_acc_' + model_name + '_' + str(number_of_epochs) + 'epochs_' + 'Frozen_' + str(frozen) + '.png')\n",
    "plt.show()"
   ]
  },
  {
   "cell_type": "code",
   "execution_count": 6,
   "metadata": {},
   "outputs": [
    {
     "data": {
      "text/plain": [
       "(431, 6)"
      ]
     },
     "execution_count": 6,
     "metadata": {},
     "output_type": "execute_result"
    }
   ],
   "source": [
    "# Get all predictions for test data\n",
    "predictions = model.predict_generator(test_generator, steps=test_generator.n)\n",
    "predictions.shape"
   ]
  },
  {
   "cell_type": "code",
   "execution_count": null,
   "metadata": {},
   "outputs": [],
   "source": [
    "\n"
   ]
  },
  {
   "cell_type": "code",
   "execution_count": null,
   "metadata": {},
   "outputs": [],
   "source": []
  }
 ],
 "metadata": {
  "kernelspec": {
   "display_name": "Python 3",
   "language": "python",
   "name": "python3"
  },
  "language_info": {
   "codemirror_mode": {
    "name": "ipython",
    "version": 3
   },
   "file_extension": ".py",
   "mimetype": "text/x-python",
   "name": "python",
   "nbconvert_exporter": "python",
   "pygments_lexer": "ipython3",
   "version": "3.7.3"
  }
 },
 "nbformat": 4,
 "nbformat_minor": 2
}
