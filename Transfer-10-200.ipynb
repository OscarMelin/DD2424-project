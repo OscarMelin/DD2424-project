{
 "cells": [
  {
   "cell_type": "code",
   "execution_count": 2,
   "metadata": {},
   "outputs": [],
   "source": [
    "import pandas as pd\n",
    "import numpy as np\n",
    "import os\n",
    "import keras\n",
    "import matplotlib.pyplot as plt\n",
    "from keras.layers import Dense,GlobalAveragePooling2D\n",
    "from keras.applications import MobileNetV2\n",
    "from keras.preprocessing import image\n",
    "from keras.applications.mobilenet import preprocess_input\n",
    "from keras.preprocessing.image import ImageDataGenerator\n",
    "from keras.models import Model\n",
    "from keras.optimizers import Adam"
   ]
  },
  {
   "cell_type": "code",
   "execution_count": 3,
   "metadata": {
    "scrolled": true
   },
   "outputs": [
    {
     "name": "stdout",
     "output_type": "stream",
     "text": [
      "WARNING:tensorflow:From /home/spxylla/anaconda3/envs/dd2424/lib/python3.7/site-packages/tensorflow/python/framework/op_def_library.py:263: colocate_with (from tensorflow.python.framework.ops) is deprecated and will be removed in a future version.\n",
      "Instructions for updating:\n",
      "Colocations handled automatically by placer.\n"
     ]
    },
    {
     "name": "stderr",
     "output_type": "stream",
     "text": [
      "/home/spxylla/anaconda3/envs/dd2424/lib/python3.7/site-packages/keras_applications/mobilenet_v2.py:295: UserWarning: MobileNet shape is undefined. Weights for input shape(224, 224) will be loaded.\n",
      "  warnings.warn('MobileNet shape is undefined.'\n"
     ]
    }
   ],
   "source": [
    "model_name='MobileNetV2 10 + 50'\n",
    "number_of_epochs_0 = 10\n",
    "number_of_epochs_1 = 50\n",
    "\n",
    "IMAGE_DIMS = (224,224)\n",
    "\n",
    "base_model = MobileNetV2(weights='imagenet',include_top=False) #imports the mobilenet model and discards the last 1000 neuron layer.\n",
    "\n",
    "\n",
    "x = base_model.output\n",
    "\n",
    "#These layers act as output layer for mobilenet but are customed to fit for 6 classes instead of imagenets original 1000.\n",
    "x = GlobalAveragePooling2D()(x)\n",
    "x = Dense(1024,activation='relu')(x) #we add dense layers so that the model can learn more complex functions and classify for better results.\n",
    "x = Dense(1024,activation='relu')(x) #dense layer 2\n",
    "x = Dense(512,activation='relu')(x) #dense layer 3\n",
    "preds = Dense(6,activation='softmax')(x) #final layer with softmax activation\n",
    "\n",
    "model = Model(inputs=base_model.input,outputs=preds)"
   ]
  },
  {
   "cell_type": "code",
   "execution_count": 4,
   "metadata": {},
   "outputs": [
    {
     "name": "stdout",
     "output_type": "stream",
     "text": [
      "Found 1825 images belonging to 6 classes.\n",
      "Found 271 images belonging to 6 classes.\n",
      "Found 431 images belonging to 6 classes.\n"
     ]
    }
   ],
   "source": [
    "datagen = dict(\n",
    "        rotation_range=40,\n",
    "        width_shift_range=0.2,\n",
    "        height_shift_range=0.2,\n",
    "        shear_range=0.2,\n",
    "        zoom_range=0.2,\n",
    "        horizontal_flip=True,\n",
    "        validation_split=0.13,\n",
    "        fill_mode='nearest')\n",
    "\n",
    "train_datagen = ImageDataGenerator(preprocessing_function=preprocess_input, **datagen)\n",
    "\n",
    "test_datagen = ImageDataGenerator(preprocessing_function=preprocess_input)\n",
    "\n",
    "\n",
    "train_generator = train_datagen.flow_from_directory('./dataset/train',\n",
    "                                                 target_size=IMAGE_DIMS,\n",
    "                                                 color_mode='rgb',\n",
    "                                                 batch_size=32,\n",
    "                                                 class_mode='categorical',\n",
    "                                                 shuffle=True,\n",
    "                                                 subset='training')\n",
    "\n",
    "validation_generator = train_datagen.flow_from_directory('./dataset/train',\n",
    "                                                 target_size=IMAGE_DIMS,\n",
    "                                                 color_mode='rgb',\n",
    "                                                 batch_size=train_generator.batch_size,\n",
    "                                                 class_mode='categorical',\n",
    "                                                 shuffle=True,\n",
    "                                                 subset='validation')\n",
    "\n",
    "test_generator = test_datagen.flow_from_directory('./dataset/test',\n",
    "                                                 target_size=IMAGE_DIMS,\n",
    "                                                 color_mode='rgb',\n",
    "                                                 batch_size=1,\n",
    "                                                 class_mode='categorical',\n",
    "                                                 shuffle=False)"
   ]
  },
  {
   "cell_type": "markdown",
   "metadata": {},
   "source": [
    "**Initial training of all layers.**"
   ]
  },
  {
   "cell_type": "code",
   "execution_count": 5,
   "metadata": {},
   "outputs": [
    {
     "name": "stdout",
     "output_type": "stream",
     "text": [
      "WARNING:tensorflow:From /home/spxylla/anaconda3/envs/dd2424/lib/python3.7/site-packages/tensorflow/python/ops/math_ops.py:3066: to_int32 (from tensorflow.python.ops.math_ops) is deprecated and will be removed in a future version.\n",
      "Instructions for updating:\n",
      "Use tf.cast instead.\n",
      "Epoch 1/10\n",
      "57/57 [==============================] - 37s 655ms/step - loss: 1.1437 - acc: 0.5883 - val_loss: 2.7569 - val_acc: 0.4180\n",
      "Epoch 2/10\n",
      "57/57 [==============================] - 28s 495ms/step - loss: 0.9404 - acc: 0.6987 - val_loss: 3.0849 - val_acc: 0.4812\n",
      "Epoch 3/10\n",
      "57/57 [==============================] - 29s 511ms/step - loss: 0.8373 - acc: 0.7212 - val_loss: 2.5196 - val_acc: 0.4979\n",
      "Epoch 4/10\n",
      "57/57 [==============================] - 29s 509ms/step - loss: 0.7192 - acc: 0.7541 - val_loss: 2.1322 - val_acc: 0.5690\n",
      "Epoch 5/10\n",
      "57/57 [==============================] - 29s 507ms/step - loss: 0.7773 - acc: 0.7568 - val_loss: 2.6325 - val_acc: 0.5188\n",
      "Epoch 6/10\n",
      "57/57 [==============================] - 29s 516ms/step - loss: 0.6557 - acc: 0.7889 - val_loss: 1.5359 - val_acc: 0.6360\n",
      "Epoch 7/10\n",
      "57/57 [==============================] - 29s 512ms/step - loss: 0.6093 - acc: 0.7998 - val_loss: 3.0469 - val_acc: 0.4561\n",
      "Epoch 8/10\n",
      "57/57 [==============================] - 29s 509ms/step - loss: 0.6744 - acc: 0.7892 - val_loss: 1.5143 - val_acc: 0.5774\n",
      "Epoch 9/10\n",
      "57/57 [==============================] - 29s 509ms/step - loss: 0.5792 - acc: 0.8089 - val_loss: 3.4723 - val_acc: 0.3891\n",
      "Epoch 10/10\n",
      "57/57 [==============================] - 29s 509ms/step - loss: 0.5645 - acc: 0.8182 - val_loss: 3.0108 - val_acc: 0.3750\n"
     ]
    }
   ],
   "source": [
    "model.compile(optimizer='Adam', loss='categorical_crossentropy', metrics=['accuracy'])\n",
    "# Adam optimizer\n",
    "# loss function will be categorical cross entropy\n",
    "# evaluation metric will be accuracy\n",
    "\n",
    "step_size_train = train_generator.n // train_generator.batch_size\n",
    "step_size_validation = validation_generator.n // train_generator.batch_size\n",
    "\n",
    "\n",
    "history = model.fit_generator(generator=train_generator,\n",
    "                   steps_per_epoch=step_size_train,\n",
    "                   validation_data = validation_generator, \n",
    "                   validation_steps = step_size_validation,\n",
    "                   epochs = number_of_epochs_0)\n",
    "\n",
    "#Get history of loss and accuracy during training and display it with graphs\n",
    "train_loss = history.history['loss']\n",
    "train_acc  = history.history['acc']\n",
    "val_loss = history.history['val_loss']\n",
    "val_acc = history.history['val_acc']"
   ]
  },
  {
   "cell_type": "markdown",
   "metadata": {},
   "source": [
    "**Freeze all but new layers and train again.**"
   ]
  },
  {
   "cell_type": "code",
   "execution_count": 6,
   "metadata": {},
   "outputs": [
    {
     "name": "stdout",
     "output_type": "stream",
     "text": [
      "Epoch 1/50\n",
      "57/57 [==============================] - 30s 534ms/step - loss: 0.4630 - acc: 0.8484 - val_loss: 2.3146 - val_acc: 0.4854\n",
      "Epoch 2/50\n",
      "57/57 [==============================] - 26s 460ms/step - loss: 0.4405 - acc: 0.8583 - val_loss: 3.8641 - val_acc: 0.4268\n",
      "Epoch 3/50\n",
      "57/57 [==============================] - 27s 470ms/step - loss: 0.3926 - acc: 0.8687 - val_loss: 3.3735 - val_acc: 0.4770\n",
      "Epoch 4/50\n",
      "57/57 [==============================] - 27s 474ms/step - loss: 0.4316 - acc: 0.8577 - val_loss: 3.2511 - val_acc: 0.4805\n",
      "Epoch 5/50\n",
      "57/57 [==============================] - 27s 470ms/step - loss: 0.4432 - acc: 0.8643 - val_loss: 3.2445 - val_acc: 0.4812\n",
      "Epoch 6/50\n",
      "57/57 [==============================] - 27s 471ms/step - loss: 0.4109 - acc: 0.8717 - val_loss: 2.9161 - val_acc: 0.5774\n",
      "Epoch 7/50\n",
      "57/57 [==============================] - 27s 477ms/step - loss: 0.4305 - acc: 0.8583 - val_loss: 3.3092 - val_acc: 0.5063\n",
      "Epoch 8/50\n",
      "57/57 [==============================] - 27s 474ms/step - loss: 0.4537 - acc: 0.8588 - val_loss: 2.9263 - val_acc: 0.5105\n",
      "Epoch 9/50\n",
      "57/57 [==============================] - 27s 476ms/step - loss: 0.3873 - acc: 0.8725 - val_loss: 3.7823 - val_acc: 0.4770\n",
      "Epoch 10/50\n",
      "57/57 [==============================] - 27s 474ms/step - loss: 0.4182 - acc: 0.8731 - val_loss: 2.8039 - val_acc: 0.3975\n",
      "Epoch 11/50\n",
      "57/57 [==============================] - 27s 474ms/step - loss: 0.3612 - acc: 0.8676 - val_loss: 3.6169 - val_acc: 0.4728\n",
      "Epoch 12/50\n",
      "57/57 [==============================] - 27s 472ms/step - loss: 0.3545 - acc: 0.8786 - val_loss: 5.0742 - val_acc: 0.3389\n",
      "Epoch 13/50\n",
      "57/57 [==============================] - 27s 471ms/step - loss: 0.4066 - acc: 0.8626 - val_loss: 3.2112 - val_acc: 0.5117\n",
      "Epoch 14/50\n",
      "57/57 [==============================] - 27s 475ms/step - loss: 0.3921 - acc: 0.8599 - val_loss: 4.4437 - val_acc: 0.4435\n",
      "Epoch 15/50\n",
      "57/57 [==============================] - 27s 477ms/step - loss: 0.3981 - acc: 0.8753 - val_loss: 4.4610 - val_acc: 0.4142\n",
      "Epoch 16/50\n",
      "57/57 [==============================] - 27s 473ms/step - loss: 0.4252 - acc: 0.8692 - val_loss: 4.5122 - val_acc: 0.3598\n",
      "Epoch 17/50\n",
      "57/57 [==============================] - 27s 472ms/step - loss: 0.3598 - acc: 0.8681 - val_loss: 3.4964 - val_acc: 0.5481\n",
      "Epoch 18/50\n",
      "57/57 [==============================] - 27s 474ms/step - loss: 0.3975 - acc: 0.8753 - val_loss: 3.2664 - val_acc: 0.4895\n",
      "Epoch 19/50\n",
      "57/57 [==============================] - 27s 470ms/step - loss: 0.3142 - acc: 0.8912 - val_loss: 5.4092 - val_acc: 0.4268\n",
      "Epoch 20/50\n",
      "57/57 [==============================] - 27s 476ms/step - loss: 0.3790 - acc: 0.8764 - val_loss: 4.1854 - val_acc: 0.4561\n",
      "Epoch 21/50\n",
      "57/57 [==============================] - 27s 472ms/step - loss: 0.3582 - acc: 0.8720 - val_loss: 4.8168 - val_acc: 0.4100\n",
      "Epoch 22/50\n",
      "57/57 [==============================] - 27s 474ms/step - loss: 0.3614 - acc: 0.8802 - val_loss: 4.4788 - val_acc: 0.4570\n",
      "Epoch 23/50\n",
      "57/57 [==============================] - 27s 476ms/step - loss: 0.3458 - acc: 0.8714 - val_loss: 3.4581 - val_acc: 0.5314\n",
      "Epoch 24/50\n",
      "57/57 [==============================] - 27s 472ms/step - loss: 0.3499 - acc: 0.8903 - val_loss: 3.2960 - val_acc: 0.5481\n",
      "Epoch 25/50\n",
      "57/57 [==============================] - 27s 475ms/step - loss: 0.3813 - acc: 0.8764 - val_loss: 5.0176 - val_acc: 0.4142\n",
      "Epoch 26/50\n",
      "57/57 [==============================] - 27s 473ms/step - loss: 0.3644 - acc: 0.8876 - val_loss: 4.7906 - val_acc: 0.4393\n",
      "Epoch 27/50\n",
      "57/57 [==============================] - 27s 472ms/step - loss: 0.4205 - acc: 0.8791 - val_loss: 3.9362 - val_acc: 0.4226\n",
      "Epoch 28/50\n",
      "57/57 [==============================] - 27s 471ms/step - loss: 0.3622 - acc: 0.8731 - val_loss: 4.2673 - val_acc: 0.4142\n",
      "Epoch 29/50\n",
      "57/57 [==============================] - 27s 471ms/step - loss: 0.3172 - acc: 0.8917 - val_loss: 3.6157 - val_acc: 0.4644\n",
      "Epoch 33/50\n",
      "57/57 [==============================] - 27s 476ms/step - loss: 0.3964 - acc: 0.8769 - val_loss: 3.9745 - val_acc: 0.4393\n",
      "Epoch 34/50\n",
      "57/57 [==============================] - 27s 477ms/step - loss: 0.3486 - acc: 0.8714 - val_loss: 4.7814 - val_acc: 0.4184\n",
      "Epoch 35/50\n",
      "57/57 [==============================] - 27s 472ms/step - loss: 0.3545 - acc: 0.8903 - val_loss: 5.8846 - val_acc: 0.4100\n",
      "Epoch 36/50\n",
      "57/57 [==============================] - 27s 470ms/step - loss: 0.3908 - acc: 0.8791 - val_loss: 5.4663 - val_acc: 0.3054\n",
      "Epoch 37/50\n",
      "57/57 [==============================] - 27s 475ms/step - loss: 0.3617 - acc: 0.8851 - val_loss: 5.0732 - val_acc: 0.4100\n",
      "Epoch 38/50\n",
      "57/57 [==============================] - 27s 477ms/step - loss: 0.3674 - acc: 0.8769 - val_loss: 3.7625 - val_acc: 0.4561\n",
      "Epoch 39/50\n",
      "57/57 [==============================] - 27s 474ms/step - loss: 0.4062 - acc: 0.8709 - val_loss: 5.6318 - val_acc: 0.3473\n",
      "Epoch 40/50\n",
      "57/57 [==============================] - 27s 476ms/step - loss: 0.3535 - acc: 0.8747 - val_loss: 4.7837 - val_acc: 0.3984\n",
      "Epoch 41/50\n",
      "57/57 [==============================] - 27s 475ms/step - loss: 0.3499 - acc: 0.8903 - val_loss: 4.4792 - val_acc: 0.4854\n",
      "Epoch 42/50\n",
      "57/57 [==============================] - 27s 472ms/step - loss: 0.3250 - acc: 0.8985 - val_loss: 6.3249 - val_acc: 0.3431\n",
      "Epoch 43/50\n",
      "57/57 [==============================] - 27s 480ms/step - loss: 0.3554 - acc: 0.8868 - val_loss: 5.2100 - val_acc: 0.4393\n",
      "Epoch 44/50\n",
      "57/57 [==============================] - 27s 472ms/step - loss: 0.3512 - acc: 0.8818 - val_loss: 5.3327 - val_acc: 0.3766\n",
      "Epoch 45/50\n",
      "57/57 [==============================] - 27s 476ms/step - loss: 0.3475 - acc: 0.8802 - val_loss: 3.6369 - val_acc: 0.4351\n",
      "Epoch 46/50\n",
      "57/57 [==============================] - 27s 474ms/step - loss: 0.3360 - acc: 0.8895 - val_loss: 5.0363 - val_acc: 0.4059\n",
      "Epoch 47/50\n",
      "57/57 [==============================] - 27s 471ms/step - loss: 0.3404 - acc: 0.8818 - val_loss: 5.5810 - val_acc: 0.3975\n",
      "Epoch 48/50\n",
      "57/57 [==============================] - 27s 472ms/step - loss: 0.3428 - acc: 0.8720 - val_loss: 5.6515 - val_acc: 0.3849\n",
      "Epoch 49/50\n",
      "57/57 [==============================] - 27s 474ms/step - loss: 0.3439 - acc: 0.8879 - val_loss: 5.4268 - val_acc: 0.4102\n",
      "Epoch 50/50\n",
      "57/57 [==============================] - 28s 483ms/step - loss: 0.2871 - acc: 0.9161 - val_loss: 5.3763 - val_acc: 0.4059\n"
     ]
    }
   ],
   "source": [
    "for layer in base_model.layers:\n",
    "    layer.trainable = False\n",
    "\n",
    "model.compile(optimizer='Adam', loss='categorical_crossentropy', metrics=['accuracy'])\n",
    "\n",
    "history = model.fit_generator(generator=train_generator,\n",
    "                   steps_per_epoch=step_size_train,\n",
    "                   validation_data = validation_generator, \n",
    "                   validation_steps = step_size_validation,\n",
    "                   epochs = number_of_epochs_1)\n",
    "\n",
    "test_loss, test_acc = model.evaluate_generator(generator=test_generator, steps=test_generator.n)\n",
    "\n",
    "#Get history of loss and accuracy during training and display it with graphs\n",
    "train_loss += history.history['loss']\n",
    "train_acc  += history.history['acc']\n",
    "val_loss += history.history['val_loss']\n",
    "val_acc += history.history['val_acc']"
   ]
  },
  {
   "cell_type": "code",
   "execution_count": 7,
   "metadata": {},
   "outputs": [
    {
     "name": "stdout",
     "output_type": "stream",
     "text": [
      "test_loss: 3.780360634062953\n",
      "test_acc: 0.5266821345707656\n",
      "A graph displaying the loss over training epochs\n"
     ]
    },
    {
     "data": {
      "image/png": "[encoded data removed]",
      "text/plain": [
       "<Figure size 432x288 with 1 Axes>"
      ]
     },
     "metadata": {
      "needs_background": "light"
     },
     "output_type": "display_data"
    },
    {
     "name": "stdout",
     "output_type": "stream",
     "text": [
      "A graph displaying the accuracy over training epochs\n"
     ]
    },
    {
     "data": {
      "image/png": "[encoded data removed]",
      "text/plain": [
       "<Figure size 432x288 with 1 Axes>"
      ]
     },
     "metadata": {
      "needs_background": "light"
     },
     "output_type": "display_data"
    }
   ],
   "source": [
    "\"\"\"\n",
    "print('train_loss:', train_loss)\n",
    "print('train_acc:', train_acc)\n",
    "print('val_loss:', val_loss)\n",
    "print('val_acc:', val_acc)\n",
    "\"\"\"\n",
    "print('test_loss:', test_loss)\n",
    "print('test_acc:', test_acc) \n",
    "\n",
    "f= open(\"test_results.txt\",\"a+\")\n",
    "f.write(\"____________________________ %s _____________________________ \\r\\n\" % model_name )\n",
    "f.write(\"Number of epochs:%d\\r\\n\" % number_of_epochs_1)\n",
    "f.write(\"Test Accuracy:%f\\r\\n\" % test_acc)\n",
    "f.write(\"Test Loss:%f\\r\\n\" % test_loss)\n",
    "f.close()\n",
    "\n",
    "print('A graph displaying the loss over training epochs')\n",
    "plt.plot(train_loss)\n",
    "plt.plot(val_loss)\n",
    "plt.title('Loss')\n",
    "plt.ylabel('Loss')\n",
    "plt.xlabel('Epoch number')\n",
    "plt.legend(['train', 'val'], loc='upper left')\n",
    "plt.savefig('graphs/train_loss_' + model_name + '_' + str(number_of_epochs_1) + 'epochs.png')\n",
    "plt.show()\n",
    "\n",
    "print('A graph displaying the accuracy over training epochs')\n",
    "plt.plot(train_acc)\n",
    "plt.plot(val_acc)\n",
    "plt.title('Accuracy')\n",
    "plt.ylabel('Accuracy')\n",
    "plt.xlabel('Epoch number')\n",
    "plt.legend(['train', 'val'], loc='upper left')\n",
    "plt.savefig('graphs/train_acc_' + model_name + '_' + str(number_of_epochs_1) +  'epochs.png')\n",
    "plt.show()"
   ]
  },
  {
   "cell_type": "code",
   "execution_count": null,
   "metadata": {},
   "outputs": [],
   "source": []
  },
  {
   "cell_type": "code",
   "execution_count": null,
   "metadata": {},
   "outputs": [],
   "source": []
  },
  {
   "cell_type": "code",
   "execution_count": null,
   "metadata": {},
   "outputs": [],
   "source": []
  }
 ],
 "metadata": {
  "kernelspec": {
   "display_name": "Python 3",
   "language": "python",
   "name": "python3"
  },
  "language_info": {
   "codemirror_mode": {
    "name": "ipython",
    "version": 3
   },
   "file_extension": ".py",
   "mimetype": "text/x-python",
   "name": "python",
   "nbconvert_exporter": "python",
   "pygments_lexer": "ipython3",
   "version": "3.7.3"
  }
 },
 "nbformat": 4,
 "nbformat_minor": 2
}
